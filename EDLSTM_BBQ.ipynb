{
  "nbformat": 4,
  "nbformat_minor": 0,
  "metadata": {
    "colab": {
      "name": "EDLSTM_BBQ.ipynb",
      "version": "0.3.2",
      "provenance": [],
      "collapsed_sections": [],
      "include_colab_link": true
    },
    "kernelspec": {
      "name": "python3",
      "display_name": "Python 3"
    },
    "accelerator": "GPU"
  },
  "cells": [
    {
      "cell_type": "markdown",
      "metadata": {
        "id": "view-in-github",
        "colab_type": "text"
      },
      "source": [
        "[View in Colaboratory](https://colab.research.google.com/github/shinchan75034/LSTM_TouchPoint/blob/master/EDLSTM_BBQ.ipynb)"
      ]
    },
    {
      "metadata": {
        "id": "f5Y7k07lTDUP",
        "colab_type": "code",
        "colab": {}
      },
      "cell_type": "code",
      "source": [
        "from __future__ import absolute_import, division, print_function\n",
        "\n",
        "import os\n",
        "import matplotlib.pyplot as plt"
      ],
      "execution_count": 0,
      "outputs": []
    },
    {
      "metadata": {
        "id": "aF9rCR1ITeyI",
        "colab_type": "code",
        "colab": {}
      },
      "cell_type": "code",
      "source": [
        "project_id = 'project1-190517'\n",
        "from google.colab import auth\n",
        "auth.authenticate_user()"
      ],
      "execution_count": 0,
      "outputs": []
    },
    {
      "metadata": {
        "id": "jwfq8PS8Ts_9",
        "colab_type": "code",
        "colab": {
          "base_uri": "https://localhost:8080/",
          "height": 359
        },
        "outputId": "b49cf0b3-ff45-4784-c246-029c965b61e0"
      },
      "cell_type": "code",
      "source": [
        "%%bigquery --project $project_id df\n",
        "select * from small_train.small_train_data limit 10;"
      ],
      "execution_count": 5,
      "outputs": [
        {
          "output_type": "execute_result",
          "data": {
            "text/html": [
              "<div>\n",
              "<style scoped>\n",
              "    .dataframe tbody tr th:only-of-type {\n",
              "        vertical-align: middle;\n",
              "    }\n",
              "\n",
              "    .dataframe tbody tr th {\n",
              "        vertical-align: top;\n",
              "    }\n",
              "\n",
              "    .dataframe thead th {\n",
              "        text-align: right;\n",
              "    }\n",
              "</style>\n",
              "<table border=\"1\" class=\"dataframe\">\n",
              "  <thead>\n",
              "    <tr style=\"text-align: right;\">\n",
              "      <th></th>\n",
              "      <th>row_id</th>\n",
              "      <th>input_events</th>\n",
              "      <th>output_events</th>\n",
              "    </tr>\n",
              "  </thead>\n",
              "  <tbody>\n",
              "    <tr>\n",
              "      <th>0</th>\n",
              "      <td>59341</td>\n",
              "      <td>CW</td>\n",
              "      <td>CW</td>\n",
              "    </tr>\n",
              "    <tr>\n",
              "      <th>1</th>\n",
              "      <td>56739</td>\n",
              "      <td>CW</td>\n",
              "      <td>CW</td>\n",
              "    </tr>\n",
              "    <tr>\n",
              "      <th>2</th>\n",
              "      <td>14637</td>\n",
              "      <td>CW</td>\n",
              "      <td>CW</td>\n",
              "    </tr>\n",
              "    <tr>\n",
              "      <th>3</th>\n",
              "      <td>55740</td>\n",
              "      <td>CW</td>\n",
              "      <td>CW</td>\n",
              "    </tr>\n",
              "    <tr>\n",
              "      <th>4</th>\n",
              "      <td>28810</td>\n",
              "      <td>CW</td>\n",
              "      <td>CW</td>\n",
              "    </tr>\n",
              "    <tr>\n",
              "      <th>5</th>\n",
              "      <td>43692</td>\n",
              "      <td>CW</td>\n",
              "      <td>CW</td>\n",
              "    </tr>\n",
              "    <tr>\n",
              "      <th>6</th>\n",
              "      <td>52035</td>\n",
              "      <td>CW</td>\n",
              "      <td>CW</td>\n",
              "    </tr>\n",
              "    <tr>\n",
              "      <th>7</th>\n",
              "      <td>40611</td>\n",
              "      <td>CW</td>\n",
              "      <td>CW</td>\n",
              "    </tr>\n",
              "    <tr>\n",
              "      <th>8</th>\n",
              "      <td>69937</td>\n",
              "      <td>CW</td>\n",
              "      <td>CW</td>\n",
              "    </tr>\n",
              "    <tr>\n",
              "      <th>9</th>\n",
              "      <td>81942</td>\n",
              "      <td>CW</td>\n",
              "      <td>CW</td>\n",
              "    </tr>\n",
              "  </tbody>\n",
              "</table>\n",
              "</div>"
            ],
            "text/plain": [
              "  row_id input_events output_events\n",
              "0  59341           CW            CW\n",
              "1  56739           CW            CW\n",
              "2  14637           CW            CW\n",
              "3  55740           CW            CW\n",
              "4  28810           CW            CW\n",
              "5  43692           CW            CW\n",
              "6  52035           CW            CW\n",
              "7  40611           CW            CW\n",
              "8  69937           CW            CW\n",
              "9  81942           CW            CW"
            ]
          },
          "metadata": {
            "tags": []
          },
          "execution_count": 5
        }
      ]
    },
    {
      "metadata": {
        "id": "kvi4hzR3UFk7",
        "colab_type": "code",
        "colab": {}
      },
      "cell_type": "code",
      "source": [
        "import pandas as pd\n",
        "import seaborn as sns\n",
        "import matplotlib.pyplot as plt\n",
        "import numpy as np\n",
        "from pandas.io import gbq"
      ],
      "execution_count": 0,
      "outputs": []
    },
    {
      "metadata": {
        "id": "UdDjxDALU88y",
        "colab_type": "code",
        "colab": {
          "base_uri": "https://localhost:8080/",
          "height": 204
        },
        "outputId": "45855214-0dce-4649-e26a-9e1435830e0b"
      },
      "cell_type": "code",
      "source": [
        "rawDataQuery=\"\"\"\n",
        "select * from small_train.small_train_data order by row_id DESC\n",
        "\"\"\"\n",
        "\n",
        "rawData = gbq.read_gbq(query=rawDataQuery,dialect ='standard', project_id=project_id)\n",
        "rawData.head()"
      ],
      "execution_count": 11,
      "outputs": [
        {
          "output_type": "execute_result",
          "data": {
            "text/html": [
              "<div>\n",
              "<style scoped>\n",
              "    .dataframe tbody tr th:only-of-type {\n",
              "        vertical-align: middle;\n",
              "    }\n",
              "\n",
              "    .dataframe tbody tr th {\n",
              "        vertical-align: top;\n",
              "    }\n",
              "\n",
              "    .dataframe thead th {\n",
              "        text-align: right;\n",
              "    }\n",
              "</style>\n",
              "<table border=\"1\" class=\"dataframe\">\n",
              "  <thead>\n",
              "    <tr style=\"text-align: right;\">\n",
              "      <th></th>\n",
              "      <th>row_id</th>\n",
              "      <th>input_events</th>\n",
              "      <th>output_events</th>\n",
              "    </tr>\n",
              "  </thead>\n",
              "  <tbody>\n",
              "    <tr>\n",
              "      <th>0</th>\n",
              "      <td>9999</td>\n",
              "      <td>NBC Discovery Freeform</td>\n",
              "      <td>TNT ComedyCentral NationalGeographic</td>\n",
              "    </tr>\n",
              "    <tr>\n",
              "      <th>1</th>\n",
              "      <td>9997</td>\n",
              "      <td>NBC AMC</td>\n",
              "      <td>CBS FXX</td>\n",
              "    </tr>\n",
              "    <tr>\n",
              "      <th>2</th>\n",
              "      <td>9994</td>\n",
              "      <td>Discovery FX</td>\n",
              "      <td>USANetwork TNT</td>\n",
              "    </tr>\n",
              "    <tr>\n",
              "      <th>3</th>\n",
              "      <td>9993</td>\n",
              "      <td>CBS FoxSports1 FOX</td>\n",
              "      <td>ABC NBC visit</td>\n",
              "    </tr>\n",
              "    <tr>\n",
              "      <th>4</th>\n",
              "      <td>9992</td>\n",
              "      <td>History A&amp;E</td>\n",
              "      <td>AnimalPlanet TLC Discovery</td>\n",
              "    </tr>\n",
              "  </tbody>\n",
              "</table>\n",
              "</div>"
            ],
            "text/plain": [
              "  row_id            input_events                         output_events\n",
              "0   9999  NBC Discovery Freeform  TNT ComedyCentral NationalGeographic\n",
              "1   9997                 NBC AMC                               CBS FXX\n",
              "2   9994            Discovery FX                        USANetwork TNT\n",
              "3   9993      CBS FoxSports1 FOX                         ABC NBC visit\n",
              "4   9992             History A&E            AnimalPlanet TLC Discovery"
            ]
          },
          "metadata": {
            "tags": []
          },
          "execution_count": 11
        }
      ]
    },
    {
      "metadata": {
        "id": "PGR1RreSWaea",
        "colab_type": "code",
        "colab": {}
      },
      "cell_type": "code",
      "source": [
        ""
      ],
      "execution_count": 0,
      "outputs": []
    }
  ]
}